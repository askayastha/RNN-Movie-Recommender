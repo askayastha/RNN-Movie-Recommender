{
  "nbformat": 4,
  "nbformat_minor": 0,
  "metadata": {
    "colab": {
      "name": "cps580_project_methods.ipynb",
      "provenance": [],
      "collapsed_sections": [],
      "machine_shape": "hm"
    },
    "kernelspec": {
      "name": "python3",
      "display_name": "Python 3"
    },
    "accelerator": "GPU"
  },
  "cells": [
    {
      "cell_type": "markdown",
      "metadata": {
        "id": "8VtZYaGLXGwI"
      },
      "source": [
        "# Get MovieLens 25M dataset"
      ]
    },
    {
      "cell_type": "code",
      "metadata": {
        "id": "tROhEvmvlNVH"
      },
      "source": [
        "MOVIELENS_URL = \"http://files.grouplens.org/datasets/movielens/ml-25m.zip\""
      ],
      "execution_count": null,
      "outputs": []
    },
    {
      "cell_type": "code",
      "metadata": {
        "id": "u2wQ0tYi-tvA",
        "colab": {
          "base_uri": "https://localhost:8080/"
        },
        "outputId": "fda645d9-92a9-4704-c41c-d93f7bcbb01c"
      },
      "source": [
        "import os\n",
        "\n",
        "!mkdir /opt/project-storage\n",
        "!wget $MOVIELENS_URL -O /opt/project-storage/ml-25m.zip"
      ],
      "execution_count": null,
      "outputs": [
        {
          "output_type": "stream",
          "text": [
            "--2020-11-29 06:09:57--  http://files.grouplens.org/datasets/movielens/ml-25m.zip\n",
            "Resolving files.grouplens.org (files.grouplens.org)... 128.101.65.152\n",
            "Connecting to files.grouplens.org (files.grouplens.org)|128.101.65.152|:80... connected.\n",
            "HTTP request sent, awaiting response... 200 OK\n",
            "Length: 261978986 (250M) [application/zip]\n",
            "Saving to: ‘/opt/project-storage/ml-25m.zip’\n",
            "\n",
            "/opt/project-storag 100%[===================>] 249.84M  26.6MB/s    in 10s     \n",
            "\n",
            "2020-11-29 06:10:08 (24.7 MB/s) - ‘/opt/project-storage/ml-25m.zip’ saved [261978986/261978986]\n",
            "\n"
          ],
          "name": "stdout"
        }
      ]
    },
    {
      "cell_type": "code",
      "metadata": {
        "id": "O6pUbIL40aag",
        "colab": {
          "base_uri": "https://localhost:8080/"
        },
        "outputId": "34f8b506-d37e-4e34-ad3b-455af880fa65"
      },
      "source": [
        "!ls -l /opt/project-storage/ml-25m.zip\n",
        "!mkdir /opt/project-storage/data\n",
        "!ls -l /opt/project-storage/data"
      ],
      "execution_count": null,
      "outputs": [
        {
          "output_type": "stream",
          "text": [
            "-rw-r--r-- 1 root root 261978986 Dec  3  2019 /opt/project-storage/ml-25m.zip\n",
            "total 0\n"
          ],
          "name": "stdout"
        }
      ]
    },
    {
      "cell_type": "code",
      "metadata": {
        "id": "AKNelxTerMAO"
      },
      "source": [
        "# !unzip /opt/project-storage/ml-25m.zip -d /opt/project-storage\n",
        "!cd /opt/project-storage/ && unzip ml-25m.zip > /dev/null"
      ],
      "execution_count": null,
      "outputs": []
    },
    {
      "cell_type": "code",
      "metadata": {
        "id": "vDguizqy1HN-",
        "colab": {
          "base_uri": "https://localhost:8080/"
        },
        "outputId": "dc19bd48-967a-4848-d750-633c4b879625"
      },
      "source": [
        "!ls -l /opt/project-storage/ml-25m\n",
        "!df -h"
      ],
      "execution_count": null,
      "outputs": [
        {
          "output_type": "stream",
          "text": [
            "total 1129588\n",
            "-rw-rw-r-- 1 root root 435164157 Nov 21  2019 genome-scores.csv\n",
            "-rw-rw-r-- 1 root root     18103 Nov 21  2019 genome-tags.csv\n",
            "-rw-rw-r-- 1 root root   1368578 Nov 21  2019 links.csv\n",
            "-rw-rw-r-- 1 root root   3038099 Nov 21  2019 movies.csv\n",
            "-rw-rw-r-- 1 root root 678260987 Nov 21  2019 ratings.csv\n",
            "-rw-rw-r-- 1 root root     10460 Nov 21  2019 README.txt\n",
            "-rw-rw-r-- 1 root root  38810332 Nov 21  2019 tags.csv\n",
            "Filesystem      Size  Used Avail Use% Mounted on\n",
            "overlay         148G   34G  114G  23% /\n",
            "tmpfs            64M     0   64M   0% /dev\n",
            "tmpfs            13G     0   13G   0% /sys/fs/cgroup\n",
            "shm              13G     0   13G   0% /dev/shm\n",
            "/dev/sda1       154G   35G  119G  23% /opt/bin\n",
            "tmpfs            13G   16K   13G   1% /var/colab\n",
            "tmpfs            13G     0   13G   0% /proc/acpi\n",
            "tmpfs            13G     0   13G   0% /proc/scsi\n",
            "tmpfs            13G     0   13G   0% /sys/firmware\n"
          ],
          "name": "stdout"
        }
      ]
    },
    {
      "cell_type": "markdown",
      "metadata": {
        "id": "Aews2QSnXXSm"
      },
      "source": [
        "# Read the MovieLens data into Pandas dataframe"
      ]
    },
    {
      "cell_type": "code",
      "metadata": {
        "id": "PkP8OzDn_jAv",
        "colab": {
          "base_uri": "https://localhost:8080/"
        },
        "outputId": "83294dab-125d-4327-ddfb-edad35f6ebe2"
      },
      "source": [
        "import pandas as pd\n",
        "\n",
        "ratings_df = pd.read_csv('/opt/project-storage/ml-25m/ratings.csv')\n",
        "# ratings_df = ratings_df[ratings_df['rating'] >= 3]\n",
        "NUM_MOVIES = ratings_df['movieId'].nunique()\n",
        "print(\"No. of movies:\", NUM_MOVIES)"
      ],
      "execution_count": null,
      "outputs": [
        {
          "output_type": "stream",
          "text": [
            "No. of movies: 59047\n"
          ],
          "name": "stdout"
        }
      ]
    },
    {
      "cell_type": "code",
      "metadata": {
        "id": "k0Fi69KStLJl"
      },
      "source": [
        "TOP_K = 10"
      ],
      "execution_count": null,
      "outputs": []
    },
    {
      "cell_type": "code",
      "metadata": {
        "id": "U-QhHrum4VuJ",
        "colab": {
          "base_uri": "https://localhost:8080/",
          "height": 289
        },
        "outputId": "573c5f97-e382-4d46-92f2-68f783e65db8"
      },
      "source": [
        "movies_df = pd.read_csv('/opt/project-storage/ml-25m/movies.csv')\n",
        "movies_df['year'] = movies_df['title'].str.extract(\"\\((\\d{4})\\)\", expand=True)\n",
        "print(movies_df.count())\n",
        "\n",
        "# year_movies_count_df = movies_df[['movieId', 'year']].groupby('year').count()\n",
        "# print(year_movies_count_df)\n",
        "\n",
        "year_list = sorted(movies_df['year'].dropna().unique())\n",
        "# print(pd.unique(movies_df['year']).tolist())\n",
        "\n",
        "avg_ratings_df = ratings_df[['movieId', 'rating']].groupby('movieId').mean()\n",
        "avg_ratings_year_df = pd.merge(movies_df[['movieId', 'year']], avg_ratings_df, on='movieId', how='left')\n",
        "avg_ratings_year_df.dropna(inplace=True)\n",
        "\n",
        "def get_movie_year(movie_id):\n",
        "  return movies_df[movies_df['movieId'] == movie_id].reset_index(drop=True).at[0, 'year']\n",
        "\n",
        "def get_movie_title(movie_id):\n",
        "  return movies_df[movies_df['movieId'] == movie_id].reset_index(drop=True).at[0, 'title']\n",
        "\n",
        "def predictions(movie_ids):\n",
        "  recent_movie_year = get_movie_year(movie_ids[-1])\n",
        "  \n",
        "  # avg_ratings_movie_year_df = avg_ratings_year_df[(avg_ratings_year_df['year'] == year) & (avg_ratings_year_df['movieId'] != movie_id)]\n",
        "  avg_ratings_movie_year_df = avg_ratings_year_df[(avg_ratings_year_df['year'] == recent_movie_year) & (np.logical_not(avg_ratings_year_df['movieId'].isin(movie_ids)))]\n",
        "  top_avg_ratings = avg_ratings_movie_year_df.sort_values(by='rating', ascending=False)\n",
        "  all_predictions = top_avg_ratings.reset_index(drop=True)\n",
        "  topK_predictions = all_predictions['movieId'][:TOP_K]\n",
        "  \n",
        "  return topK_predictions.tolist()\n",
        "\n",
        "# year_preds = dict()\n",
        "# for year in year_list:\n",
        "#   year_preds[year] = predictions(year)\n",
        "\n",
        "# year_preds = { year: predictions(movie_id, year) for year in year_list }\n",
        "\n",
        "# import pprint as pp\n",
        "# pp.pprint(year_preds)\n",
        "\n",
        "movie_id = 2\n",
        "movie_year = get_movie_year(movie_id)\n",
        "movies_df.head()"
      ],
      "execution_count": null,
      "outputs": [
        {
          "output_type": "stream",
          "text": [
            "movieId    62423\n",
            "title      62423\n",
            "genres     62423\n",
            "year       62013\n",
            "dtype: int64\n"
          ],
          "name": "stdout"
        },
        {
          "output_type": "execute_result",
          "data": {
            "text/html": [
              "<div>\n",
              "<style scoped>\n",
              "    .dataframe tbody tr th:only-of-type {\n",
              "        vertical-align: middle;\n",
              "    }\n",
              "\n",
              "    .dataframe tbody tr th {\n",
              "        vertical-align: top;\n",
              "    }\n",
              "\n",
              "    .dataframe thead th {\n",
              "        text-align: right;\n",
              "    }\n",
              "</style>\n",
              "<table border=\"1\" class=\"dataframe\">\n",
              "  <thead>\n",
              "    <tr style=\"text-align: right;\">\n",
              "      <th></th>\n",
              "      <th>movieId</th>\n",
              "      <th>title</th>\n",
              "      <th>genres</th>\n",
              "      <th>year</th>\n",
              "    </tr>\n",
              "  </thead>\n",
              "  <tbody>\n",
              "    <tr>\n",
              "      <th>0</th>\n",
              "      <td>1</td>\n",
              "      <td>Toy Story (1995)</td>\n",
              "      <td>Adventure|Animation|Children|Comedy|Fantasy</td>\n",
              "      <td>1995</td>\n",
              "    </tr>\n",
              "    <tr>\n",
              "      <th>1</th>\n",
              "      <td>2</td>\n",
              "      <td>Jumanji (1995)</td>\n",
              "      <td>Adventure|Children|Fantasy</td>\n",
              "      <td>1995</td>\n",
              "    </tr>\n",
              "    <tr>\n",
              "      <th>2</th>\n",
              "      <td>3</td>\n",
              "      <td>Grumpier Old Men (1995)</td>\n",
              "      <td>Comedy|Romance</td>\n",
              "      <td>1995</td>\n",
              "    </tr>\n",
              "    <tr>\n",
              "      <th>3</th>\n",
              "      <td>4</td>\n",
              "      <td>Waiting to Exhale (1995)</td>\n",
              "      <td>Comedy|Drama|Romance</td>\n",
              "      <td>1995</td>\n",
              "    </tr>\n",
              "    <tr>\n",
              "      <th>4</th>\n",
              "      <td>5</td>\n",
              "      <td>Father of the Bride Part II (1995)</td>\n",
              "      <td>Comedy</td>\n",
              "      <td>1995</td>\n",
              "    </tr>\n",
              "  </tbody>\n",
              "</table>\n",
              "</div>"
            ],
            "text/plain": [
              "   movieId  ...  year\n",
              "0        1  ...  1995\n",
              "1        2  ...  1995\n",
              "2        3  ...  1995\n",
              "3        4  ...  1995\n",
              "4        5  ...  1995\n",
              "\n",
              "[5 rows x 4 columns]"
            ]
          },
          "metadata": {
            "tags": []
          },
          "execution_count": 8
        }
      ]
    },
    {
      "cell_type": "markdown",
      "metadata": {
        "id": "EmzkdZgiW_1q"
      },
      "source": [
        "# Sort ratings data according to the timestamp column"
      ]
    },
    {
      "cell_type": "code",
      "metadata": {
        "id": "M-6YwILh1kVM",
        "colab": {
          "base_uri": "https://localhost:8080/",
          "height": 204
        },
        "outputId": "7051b758-f955-4f2a-aa2d-69accff6f2b9"
      },
      "source": [
        "ratings_df['timestamp'] = pd.to_datetime(ratings_df['timestamp'], unit='s')\n",
        "ratings_df.sort_values('timestamp', inplace=True)\n",
        "\n",
        "ratings_df.head()"
      ],
      "execution_count": null,
      "outputs": [
        {
          "output_type": "execute_result",
          "data": {
            "text/html": [
              "<div>\n",
              "<style scoped>\n",
              "    .dataframe tbody tr th:only-of-type {\n",
              "        vertical-align: middle;\n",
              "    }\n",
              "\n",
              "    .dataframe tbody tr th {\n",
              "        vertical-align: top;\n",
              "    }\n",
              "\n",
              "    .dataframe thead th {\n",
              "        text-align: right;\n",
              "    }\n",
              "</style>\n",
              "<table border=\"1\" class=\"dataframe\">\n",
              "  <thead>\n",
              "    <tr style=\"text-align: right;\">\n",
              "      <th></th>\n",
              "      <th>userId</th>\n",
              "      <th>movieId</th>\n",
              "      <th>rating</th>\n",
              "      <th>timestamp</th>\n",
              "    </tr>\n",
              "  </thead>\n",
              "  <tbody>\n",
              "    <tr>\n",
              "      <th>326761</th>\n",
              "      <td>2262</td>\n",
              "      <td>21</td>\n",
              "      <td>3.0</td>\n",
              "      <td>1995-01-09 11:46:49</td>\n",
              "    </tr>\n",
              "    <tr>\n",
              "      <th>326810</th>\n",
              "      <td>2262</td>\n",
              "      <td>1079</td>\n",
              "      <td>3.0</td>\n",
              "      <td>1995-01-09 11:46:49</td>\n",
              "    </tr>\n",
              "    <tr>\n",
              "      <th>326767</th>\n",
              "      <td>2262</td>\n",
              "      <td>47</td>\n",
              "      <td>5.0</td>\n",
              "      <td>1995-01-09 11:46:49</td>\n",
              "    </tr>\n",
              "    <tr>\n",
              "      <th>15845015</th>\n",
              "      <td>102689</td>\n",
              "      <td>1</td>\n",
              "      <td>4.0</td>\n",
              "      <td>1996-01-29 00:00:00</td>\n",
              "    </tr>\n",
              "    <tr>\n",
              "      <th>15845023</th>\n",
              "      <td>102689</td>\n",
              "      <td>39</td>\n",
              "      <td>5.0</td>\n",
              "      <td>1996-01-29 00:00:00</td>\n",
              "    </tr>\n",
              "  </tbody>\n",
              "</table>\n",
              "</div>"
            ],
            "text/plain": [
              "          userId  movieId  rating           timestamp\n",
              "326761      2262       21     3.0 1995-01-09 11:46:49\n",
              "326810      2262     1079     3.0 1995-01-09 11:46:49\n",
              "326767      2262       47     5.0 1995-01-09 11:46:49\n",
              "15845015  102689        1     4.0 1996-01-29 00:00:00\n",
              "15845023  102689       39     5.0 1996-01-29 00:00:00"
            ]
          },
          "metadata": {
            "tags": []
          },
          "execution_count": 9
        }
      ]
    },
    {
      "cell_type": "code",
      "metadata": {
        "id": "Jt1oMORm4MPw",
        "colab": {
          "base_uri": "https://localhost:8080/"
        },
        "outputId": "613189ef-4dd7-4894-fa7f-2ec3585a1f89"
      },
      "source": [
        "print(\"The shape of the ratings data is\", ratings_df.shape)"
      ],
      "execution_count": null,
      "outputs": [
        {
          "output_type": "stream",
          "text": [
            "The shape of the ratings data is (25000095, 4)\n"
          ],
          "name": "stdout"
        }
      ]
    },
    {
      "cell_type": "markdown",
      "metadata": {
        "id": "kbId9romXiCa"
      },
      "source": [
        "# Remove user and items that appears in too few interactions"
      ]
    },
    {
      "cell_type": "code",
      "metadata": {
        "id": "qg2RWINmOacq",
        "colab": {
          "base_uri": "https://localhost:8080/"
        },
        "outputId": "55a34b99-116d-49a5-cfd8-98888b994e33"
      },
      "source": [
        "import numpy as np\n",
        "print('Removing inactive users and rare items...')\n",
        "\n",
        "min_user_activity = 20\n",
        "min_item_popularity = 100\n",
        "\n",
        "user_activity = ratings_df.groupby('userId').size()\n",
        "ratings_df = ratings_df[np.isin(ratings_df.userId, user_activity[user_activity >= min_user_activity].index)]\n",
        "\n",
        "item_popularity = ratings_df.groupby('movieId').size()\n",
        "ratings_df = ratings_df[np.isin(ratings_df.movieId, item_popularity[item_popularity >= min_item_popularity].index)]\n",
        "\n",
        "user_activity = ratings_df.groupby('userId').size()\n",
        "ratings_df = ratings_df[np.isin(ratings_df.userId, user_activity[user_activity >= min_user_activity].index)]"
      ],
      "execution_count": null,
      "outputs": [
        {
          "output_type": "stream",
          "text": [
            "Removing inactive users and rare items...\n"
          ],
          "name": "stdout"
        }
      ]
    },
    {
      "cell_type": "code",
      "metadata": {
        "id": "fwe8SgXEh80n",
        "colab": {
          "base_uri": "https://localhost:8080/"
        },
        "outputId": "bec8b87d-35f1-488b-b384-7b469d9eeb13"
      },
      "source": [
        "print(\"The shape of the ratings data is\", ratings_df.shape)\n",
        "\n",
        "NUM_MOVIES = ratings_df['movieId'].nunique()\n",
        "print(\"No. of movies:\", NUM_MOVIES)"
      ],
      "execution_count": null,
      "outputs": [
        {
          "output_type": "stream",
          "text": [
            "The shape of the ratings data is (24434952, 4)\n",
            "No. of movies: 10326\n"
          ],
          "name": "stdout"
        }
      ]
    },
    {
      "cell_type": "markdown",
      "metadata": {
        "id": "uO8k_wP9XnQb"
      },
      "source": [
        "# Convert MovieLens movie ids to new movie ids to reduce the number of categories to train the model"
      ]
    },
    {
      "cell_type": "code",
      "metadata": {
        "id": "oLrG0JPyMKOp",
        "colab": {
          "base_uri": "https://localhost:8080/"
        },
        "outputId": "d3bebde9-8255-4c7c-8d4d-6a832bb7fc0d"
      },
      "source": [
        "rev_movie_index = dict(enumerate(set(ratings_df['movieId']), start=0))\n",
        "i = 0\n",
        "print(len(rev_movie_index.keys()))\n",
        "\n",
        "# Peek new movie ids\n",
        "movie_index = { v: k for k, v in rev_movie_index.items() }\n",
        "for key, val in movie_index.items():\n",
        "  print(f\"{key}: {val}\")\n",
        "  i += 1\n",
        "\n",
        "  if i == 5:\n",
        "    break"
      ],
      "execution_count": null,
      "outputs": [
        {
          "output_type": "stream",
          "text": [
            "10326\n",
            "1: 0\n",
            "2: 1\n",
            "3: 2\n",
            "4: 3\n",
            "5: 4\n"
          ],
          "name": "stdout"
        }
      ]
    },
    {
      "cell_type": "markdown",
      "metadata": {
        "id": "IAloOoFxXsy3"
      },
      "source": [
        "# Randomly split by users into training, validation, and test sets using a 60-20-20 split"
      ]
    },
    {
      "cell_type": "code",
      "metadata": {
        "id": "dbn8nmI_4E80",
        "colab": {
          "base_uri": "https://localhost:8080/"
        },
        "outputId": "89e421c0-c3a5-4315-969b-45abb8ca729d"
      },
      "source": [
        "TEST_SPLIT = 0.2\n",
        "\n",
        "no_users = ratings_df['userId'].nunique()\n",
        "no_val_users = round(TEST_SPLIT * no_users)\n",
        "no_test_users = round(TEST_SPLIT * no_users)\n",
        "\n",
        "if no_users <= no_val_users + no_test_users:\n",
        "  raise ValueError('Choose different validation and test splits')\n",
        "\n",
        "def extract_n_users(df, n):\n",
        "  users_ids = np.random.choice(df['userId'].unique(), n)\n",
        "  n_set = df[df['userId'].isin(users_ids)]\n",
        "  remain_set = df.drop(n_set.index)\n",
        "  return n_set, remain_set\n",
        "\n",
        "print('Splitting data into training, validation and test sets...')\n",
        "test_set, tmp_set = extract_n_users(ratings_df, no_test_users)\n",
        "val_set, train_set = extract_n_users(tmp_set, no_val_users)"
      ],
      "execution_count": null,
      "outputs": [
        {
          "output_type": "stream",
          "text": [
            "Splitting data into training, validation and test sets...\n"
          ],
          "name": "stdout"
        }
      ]
    },
    {
      "cell_type": "code",
      "metadata": {
        "id": "lQkqw0YI9X0d",
        "colab": {
          "base_uri": "https://localhost:8080/"
        },
        "outputId": "ce5d9737-0755-4947-8e02-acd7c66d5623"
      },
      "source": [
        "print(\"Unique Users Count\")\n",
        "print(\"------------------\")\n",
        "print(\"Train Set:\", train_set['userId'].nunique())\n",
        "print(\"Validation Set:\", val_set['userId'].nunique())\n",
        "print(\"Test Set:\", test_set['userId'].nunique())\n",
        "\n",
        "print(\"\\nRating Rows Count\")\n",
        "print(\"-----------------\")\n",
        "print(\"Train Set:\", train_set.shape[0])\n",
        "print(\"Validation Set:\", val_set.shape[0])\n",
        "print(\"Test Set:\", test_set.shape[0])"
      ],
      "execution_count": null,
      "outputs": [
        {
          "output_type": "stream",
          "text": [
            "Unique Users Count\n",
            "------------------\n",
            "Train Set: 103862\n",
            "Validation Set: 28835\n",
            "Test Set: 29368\n",
            "\n",
            "Rating Rows Count\n",
            "-----------------\n",
            "Train Set: 15553621\n",
            "Validation Set: 4393088\n",
            "Test Set: 4488243\n"
          ],
          "name": "stdout"
        }
      ]
    },
    {
      "cell_type": "markdown",
      "metadata": {
        "id": "-o6sbokZXwV5"
      },
      "source": [
        "# Generates sequences of user actions from data\n",
        "# Each sequence has the format [user_id, first_item_id, first_item_rating, 2nd_item_id, 2nd_item_rating, ...]"
      ]
    },
    {
      "cell_type": "code",
      "metadata": {
        "id": "GswWAVdqBbPy"
      },
      "source": [
        "def gen_sequences(data):\n",
        "  data = data.sort_values('userId', kind=\"mergesort\")\n",
        "  seq = []\n",
        "  prev_id = -1\n",
        "  for user_id, item_id, rating in zip(data['userId'], data['movieId'], data['rating']):\n",
        "    if user_id != prev_id:\n",
        "      if len(seq) > 3:\n",
        "        yield seq\n",
        "      prev_id = user_id\n",
        "      seq = [user_id]\n",
        "    seq.extend([item_id, rating])\n",
        "  yield seq"
      ],
      "execution_count": null,
      "outputs": []
    },
    {
      "cell_type": "code",
      "metadata": {
        "id": "B5WBb6ZIomiX"
      },
      "source": [
        "import os\n",
        "data_path = \"/opt/project-storage/data\""
      ],
      "execution_count": null,
      "outputs": []
    },
    {
      "cell_type": "markdown",
      "metadata": {
        "id": "nf4QYrmwX1u1"
      },
      "source": [
        "# Save data in sequences format"
      ]
    },
    {
      "cell_type": "code",
      "metadata": {
        "id": "ngTpubSSBRds",
        "colab": {
          "base_uri": "https://localhost:8080/"
        },
        "outputId": "c7d529e3-1eb2-48cd-c5eb-8c1041b60033"
      },
      "source": [
        "print('Saving the training set in the sequences format...')\n",
        "with open(os.path.join(data_path, \"train_set_sequences\"), \"w\") as file:\n",
        "  for s in gen_sequences(train_set):\n",
        "    file.write(' '.join(map(str, s)) + \"\\n\")\n",
        "\n",
        "print('Saving the validation set in the sequences format...')\n",
        "with open(os.path.join(data_path, \"val_set_sequences\"), \"w\") as file:\n",
        "  for s in gen_sequences(val_set):\n",
        "    file.write(' '.join(map(str, s)) + \"\\n\")\n",
        "\n",
        "print('Saving the test set in the sequences format...')\n",
        "with open(os.path.join(data_path, \"test_set_sequences\"), \"w\") as file:\n",
        "  for s in gen_sequences(test_set):\n",
        "    file.write(' '.join(map(str, s)) + \"\\n\")"
      ],
      "execution_count": null,
      "outputs": [
        {
          "output_type": "stream",
          "text": [
            "Saving the training set in the sequences format...\n",
            "Saving the validation set in the sequences format...\n",
            "Saving the test set in the sequences format...\n"
          ],
          "name": "stdout"
        }
      ]
    },
    {
      "cell_type": "code",
      "metadata": {
        "id": "vyUfFOxSGTRH",
        "colab": {
          "base_uri": "https://localhost:8080/"
        },
        "outputId": "2bddf99a-351f-4fc9-b6bb-1acf4d13e992"
      },
      "source": [
        "!ls -l $data_path"
      ],
      "execution_count": null,
      "outputs": [
        {
          "output_type": "stream",
          "text": [
            "total 216268\n",
            "-rw-r--r-- 1 root root  40707875 Nov 29 06:11 test_set_sequences\n",
            "-rw-r--r-- 1 root root 140925065 Nov 29 06:11 train_set_sequences\n",
            "-rw-r--r-- 1 root root  39820133 Nov 29 06:11 val_set_sequences\n"
          ],
          "name": "stdout"
        }
      ]
    },
    {
      "cell_type": "markdown",
      "metadata": {
        "id": "9vgraCSHX5V3"
      },
      "source": [
        "# Sequence generator function"
      ]
    },
    {
      "cell_type": "code",
      "metadata": {
        "id": "vR71nzKSK5nz"
      },
      "source": [
        "def seq_generator(file_path):\n",
        "  min_length = 2\n",
        "  max_length = None\n",
        "  lines = []\n",
        "  \n",
        "  with open(file_path, 'r') as file:\n",
        "    for sequence in file:\n",
        "      lines.append(sequence)\n",
        "\n",
        "  for j, sequence in enumerate(lines):\n",
        "    # Express sequence as a list of tuples (movie_id, rating)\n",
        "    sequence = sequence.split()\n",
        "    user_id = sequence[0]\n",
        "    sequence = sequence[1:]\n",
        "    sequence = [[int(sequence[2*i]), float(sequence[2*i + 1])] for i in range(int(len(sequence) / 2))]\n",
        "\n",
        "    # Determine length of the sequence to be returned????\n",
        "    if max_length == None:\n",
        "      this_max_length = len(sequence)\n",
        "    else:\n",
        "      this_max_length = max_length\n",
        "\n",
        "    if len(sequence) < min_length:\n",
        "      continue\n",
        "\n",
        "    length = min(this_max_length, len(sequence))\n",
        "\n",
        "    # Extract subsequence if needed\n",
        "    start = np.random.randint(0, len(sequence) - length + 1)\n",
        "    sequence = sequence[start: start + length]\n",
        "\n",
        "    yield user_id, sequence"
      ],
      "execution_count": null,
      "outputs": []
    },
    {
      "cell_type": "code",
      "metadata": {
        "id": "yBaKESHtPCUB"
      },
      "source": [
        "train_seq_gen = seq_generator(os.path.join(data_path, \"train_set_sequences\"))\n",
        "val_seq_gen = seq_generator(os.path.join(data_path, \"val_set_sequences\"))\n",
        "test_seq_gen = seq_generator(os.path.join(data_path, \"test_set_sequences\"))"
      ],
      "execution_count": null,
      "outputs": []
    },
    {
      "cell_type": "code",
      "metadata": {
        "id": "6pEA_hsd-vP7",
        "colab": {
          "base_uri": "https://localhost:8080/"
        },
        "outputId": "c9f4faa7-a3ea-4013-d63e-68743798c144"
      },
      "source": [
        "print(\"No. of movies:\", NUM_MOVIES)\n",
        "\n",
        "def vectorize_sequences(sequences, dimensions=10000):\n",
        "    results = np.zeros((len(sequences), dimensions))\n",
        "    for i, sequence in enumerate(sequences):\n",
        "      movie_id = movie_index[sequence[0]]\n",
        "      results[i, movie_id] = 1.\n",
        "    return results\n",
        "\n",
        "def vectorize_seq(item):\n",
        "  item_id, rating = item\n",
        "\n",
        "  result = np.zeros(NUM_MOVIES)\n",
        "  movie_id = movie_index[item_id]\n",
        "  result[movie_id] = 1.\n",
        "\n",
        "  return np.concatenate((result, get_ratings_features(item)))\n",
        "\n",
        "def get_ratings_features(item):\n",
        "    # Get the \"other features\" of an item, i.e. [personal_rating on a scale of ten, average_rating on a scale of ten, popularity on a log scale of ten]\n",
        "    \n",
        "    def int2list(val, length):\n",
        "      f = np.zeros(length)\n",
        "      f[int(val) - 1] = 1\n",
        "      return f\n",
        "\n",
        "    item_id, rating = item\n",
        "    rating = int2list(round(rating*2), 10)\n",
        "    return rating"
      ],
      "execution_count": null,
      "outputs": [
        {
          "output_type": "stream",
          "text": [
            "No. of movies: 10326\n"
          ],
          "name": "stdout"
        }
      ]
    },
    {
      "cell_type": "markdown",
      "metadata": {
        "id": "Hom_uY8jX-JE"
      },
      "source": [
        "# Mini-batch generator function"
      ]
    },
    {
      "cell_type": "code",
      "metadata": {
        "id": "690KP82GS3yZ"
      },
      "source": [
        "import random\n",
        "# from keras.utils.np_utils import to_categorical\n",
        "\n",
        "# Mini-batch generator\n",
        "def mini_batch_generator(seq_generator, min_range=2, batch_size=10, max_length=200, test=False, eval_test=False):\n",
        "  while True:\n",
        "    i = 0\n",
        "    samples = []\n",
        "    targets = []\n",
        "    \n",
        "    while i < batch_size:\n",
        "      user_id, sequence = next(seq_generator)\n",
        "\n",
        "      # Generate random sequence lengths\n",
        "      if not test:\n",
        "        seq_lengths = sorted(random.sample(range(min_range, len(sequence)), min(batch_size - i, len(sequence) - 2)))\n",
        "      else:\n",
        "        seq_lengths = [int(len(sequence) / 2)]\n",
        "\n",
        "      skipped_seq = 0\n",
        "      for seq_len in seq_lengths:\n",
        "        target = sequence[seq_len:]\n",
        "        if len(target) == 0:\n",
        "          skipped_seq += 1\n",
        "          continue\n",
        "        start = max(0, seq_len - max_length)\n",
        "        samples.append(sequence[start: seq_len])\n",
        "        targets.append(target[0])\n",
        "\n",
        "      i += len(seq_lengths) - skipped_seq\n",
        "\n",
        "    if eval_test:\n",
        "      yield samples, targets\n",
        "      \n",
        "    else:\n",
        "      train_X = np.zeros((len(samples), max_length, NUM_MOVIES+10))\n",
        "      for j, sample in enumerate(samples):\n",
        "        seq_features = list(map(lambda x: vectorize_seq(x), sample))\n",
        "        train_X[j, :len(sample), :] = seq_features\n",
        "\n",
        "      train_Y = vectorize_sequences(targets, dimensions=NUM_MOVIES)\n",
        "      \n",
        "      yield train_X, train_Y"
      ],
      "execution_count": null,
      "outputs": []
    },
    {
      "cell_type": "code",
      "metadata": {
        "id": "Vl4qNE0ogIUD"
      },
      "source": [
        "BATCH_SIZE = 128\n",
        "MAX_LENGTH = 10\n",
        "NEURONS = 128"
      ],
      "execution_count": null,
      "outputs": []
    },
    {
      "cell_type": "markdown",
      "metadata": {
        "id": "jn9hbqQNYT77"
      },
      "source": [
        "# Evaluate the naive method"
      ]
    },
    {
      "cell_type": "code",
      "metadata": {
        "id": "K6KDXLVeg8lm",
        "colab": {
          "base_uri": "https://localhost:8080/"
        },
        "outputId": "11ca294a-4fae-425f-9781-28efaa7a68f0"
      },
      "source": [
        "import pprint as pp\n",
        "test_naive_gen = mini_batch_generator(test_seq_gen, batch_size=BATCH_SIZE, max_length=MAX_LENGTH, test=True, eval_test=True)\n",
        "test_steps = 100\n",
        "#\n",
        "def evaluate_naive_method():\n",
        "  score = 0\n",
        "  samples_len = 0\n",
        "  \n",
        "  print(\"Calulating Naive TopKCategoricalAccuracy...\")\n",
        "  for step in range(test_steps):\n",
        "    print(\"Test Steps:\", step)\n",
        "    samples, targets = next(test_naive_gen)\n",
        "    # pp.pprint(samples)\n",
        "    \n",
        "    # key_error_count = 0\n",
        "    for j, sample in enumerate(samples):\n",
        "      # recent_movie_id = sample[-1][0]\n",
        "      movie_ids = [ movie_id[0] for movie_id in sample ]\n",
        "      movie_target = targets[j]\n",
        "      # movie_year = get_movie_year(recent_movie_id)\n",
        "\n",
        "      score += int(movie_target[0] in predictions(movie_ids))\n",
        "\n",
        "    samples_len += len(samples)\n",
        "\n",
        "  k_accuracy = score / samples_len\n",
        "  print(f\"TopKCategoricalAccuracy: {k_accuracy*100:.2f}%\")\n",
        "\n",
        "evaluate_naive_method()"
      ],
      "execution_count": null,
      "outputs": [
        {
          "output_type": "stream",
          "text": [
            "Calulating Naive TopKCategoricalAccuracy...\n",
            "Test Steps: 0\n",
            "Test Steps: 1\n",
            "Test Steps: 2\n",
            "Test Steps: 3\n",
            "Test Steps: 4\n",
            "Test Steps: 5\n",
            "Test Steps: 6\n",
            "Test Steps: 7\n",
            "Test Steps: 8\n",
            "Test Steps: 9\n",
            "Test Steps: 10\n",
            "Test Steps: 11\n",
            "Test Steps: 12\n",
            "Test Steps: 13\n",
            "Test Steps: 14\n",
            "Test Steps: 15\n",
            "Test Steps: 16\n",
            "Test Steps: 17\n",
            "Test Steps: 18\n",
            "Test Steps: 19\n",
            "Test Steps: 20\n",
            "Test Steps: 21\n",
            "Test Steps: 22\n",
            "Test Steps: 23\n",
            "Test Steps: 24\n",
            "Test Steps: 25\n",
            "Test Steps: 26\n",
            "Test Steps: 27\n",
            "Test Steps: 28\n",
            "Test Steps: 29\n",
            "Test Steps: 30\n",
            "Test Steps: 31\n",
            "Test Steps: 32\n",
            "Test Steps: 33\n",
            "Test Steps: 34\n",
            "Test Steps: 35\n",
            "Test Steps: 36\n",
            "Test Steps: 37\n",
            "Test Steps: 38\n",
            "Test Steps: 39\n",
            "Test Steps: 40\n",
            "Test Steps: 41\n",
            "Test Steps: 42\n",
            "Test Steps: 43\n",
            "Test Steps: 44\n",
            "Test Steps: 45\n",
            "Test Steps: 46\n",
            "Test Steps: 47\n",
            "Test Steps: 48\n",
            "Test Steps: 49\n",
            "Test Steps: 50\n",
            "Test Steps: 51\n",
            "Test Steps: 52\n",
            "Test Steps: 53\n",
            "Test Steps: 54\n",
            "Test Steps: 55\n",
            "Test Steps: 56\n",
            "Test Steps: 57\n",
            "Test Steps: 58\n",
            "Test Steps: 59\n",
            "Test Steps: 60\n",
            "Test Steps: 61\n",
            "Test Steps: 62\n",
            "Test Steps: 63\n",
            "Test Steps: 64\n",
            "Test Steps: 65\n",
            "Test Steps: 66\n",
            "Test Steps: 67\n",
            "Test Steps: 68\n",
            "Test Steps: 69\n",
            "Test Steps: 70\n",
            "Test Steps: 71\n",
            "Test Steps: 72\n",
            "Test Steps: 73\n",
            "Test Steps: 74\n",
            "Test Steps: 75\n",
            "Test Steps: 76\n",
            "Test Steps: 77\n",
            "Test Steps: 78\n",
            "Test Steps: 79\n",
            "Test Steps: 80\n",
            "Test Steps: 81\n",
            "Test Steps: 82\n",
            "Test Steps: 83\n",
            "Test Steps: 84\n",
            "Test Steps: 85\n",
            "Test Steps: 86\n",
            "Test Steps: 87\n",
            "Test Steps: 88\n",
            "Test Steps: 89\n",
            "Test Steps: 90\n",
            "Test Steps: 91\n",
            "Test Steps: 92\n",
            "Test Steps: 93\n",
            "Test Steps: 94\n",
            "Test Steps: 95\n",
            "Test Steps: 96\n",
            "Test Steps: 97\n",
            "Test Steps: 98\n",
            "Test Steps: 99\n",
            "TopKCategoricalAccuracy: 0.11%\n"
          ],
          "name": "stdout"
        }
      ]
    },
    {
      "cell_type": "code",
      "metadata": {
        "id": "76nlCa99_3s-"
      },
      "source": [
        "train_gen = mini_batch_generator(train_seq_gen, batch_size=BATCH_SIZE, max_length=MAX_LENGTH)\n",
        "val_gen = mini_batch_generator(val_seq_gen, batch_size=BATCH_SIZE, max_length=MAX_LENGTH)\n",
        "\n",
        "test_seq_gen = seq_generator(os.path.join(data_path, \"test_set_sequences\"))\n",
        "test_gen = mini_batch_generator(test_seq_gen, batch_size=BATCH_SIZE, max_length=MAX_LENGTH, test=True)"
      ],
      "execution_count": null,
      "outputs": []
    },
    {
      "cell_type": "markdown",
      "metadata": {
        "id": "Qy5bhl8vYbxK"
      },
      "source": [
        "# Train the model"
      ]
    },
    {
      "cell_type": "code",
      "metadata": {
        "id": "JK9kljxhvOTX",
        "colab": {
          "base_uri": "https://localhost:8080/"
        },
        "outputId": "525aa5e3-e167-40a3-ed36-f22fc0ef0f16"
      },
      "source": [
        "from keras.layers import Dense, LSTM, GRU\n",
        "from keras.models import Model, Sequential\n",
        "from keras.optimizers import Adam\n",
        "from keras import layers\n",
        "from keras.metrics import TopKCategoricalAccuracy\n",
        "import time\n",
        "\n",
        "model = Sequential()\n",
        "model.add(layers.Masking(mask_value=0, input_shape=(MAX_LENGTH, NUM_MOVIES+10)))\n",
        "# model.add(layers.GRU(NEURONS))\n",
        "model.add(layers.Bidirectional(layers.GRU(NEURONS)))\n",
        "model.add(layers.Dense(NUM_MOVIES, activation='softmax'))\n",
        "model.summary()\n",
        "\n",
        "model.compile(optimizer=Adam(learning_rate=0.01), loss='categorical_crossentropy', metrics=[TopKCategoricalAccuracy(k=TOP_K)])\n",
        "start_time = time.time()\n",
        "history = model.fit(train_gen,\n",
        "                    steps_per_epoch=500,\n",
        "                    epochs=20,\n",
        "                    validation_data=val_gen,\n",
        "                    validation_steps=100)\n",
        "end_time = time.time()\n",
        "exec_time = round(end_time - start_time, 3)\n",
        "print(f\"Total Execution Time: {exec_time}s\")\n",
        "\n",
        "results = model.evaluate(test_gen)\n",
        "print(results)\n",
        "print(\"The test top-k accuracy is {:.2f}%\".format(results[1]*100))"
      ],
      "execution_count": null,
      "outputs": [
        {
          "output_type": "stream",
          "text": [
            "Model: \"sequential_3\"\n",
            "_________________________________________________________________\n",
            "Layer (type)                 Output Shape              Param #   \n",
            "=================================================================\n",
            "masking_3 (Masking)          (None, 10, 10336)         0         \n",
            "_________________________________________________________________\n",
            "bidirectional_3 (Bidirection (None, 256)               8037888   \n",
            "_________________________________________________________________\n",
            "dense_3 (Dense)              (None, 10326)             2653782   \n",
            "=================================================================\n",
            "Total params: 10,691,670\n",
            "Trainable params: 10,691,670\n",
            "Non-trainable params: 0\n",
            "_________________________________________________________________\n",
            "Epoch 1/20\n",
            "500/500 [==============================] - 52s 104ms/step - loss: 7.3599 - top_k_categorical_accuracy: 0.0835 - val_loss: 6.9313 - val_top_k_categorical_accuracy: 0.1256\n",
            "Epoch 2/20\n",
            "500/500 [==============================] - 52s 104ms/step - loss: 6.7279 - top_k_categorical_accuracy: 0.1446 - val_loss: 6.7507 - val_top_k_categorical_accuracy: 0.1482\n",
            "Epoch 3/20\n",
            "500/500 [==============================] - 51s 102ms/step - loss: 6.5582 - top_k_categorical_accuracy: 0.1618 - val_loss: 6.3807 - val_top_k_categorical_accuracy: 0.1834\n",
            "Epoch 4/20\n",
            "500/500 [==============================] - 52s 103ms/step - loss: 6.4530 - top_k_categorical_accuracy: 0.1723 - val_loss: 6.4000 - val_top_k_categorical_accuracy: 0.1822\n",
            "Epoch 5/20\n",
            "500/500 [==============================] - 52s 104ms/step - loss: 6.3549 - top_k_categorical_accuracy: 0.1843 - val_loss: 6.3071 - val_top_k_categorical_accuracy: 0.1945\n",
            "Epoch 6/20\n",
            "500/500 [==============================] - 52s 104ms/step - loss: 6.3622 - top_k_categorical_accuracy: 0.1868 - val_loss: 6.3472 - val_top_k_categorical_accuracy: 0.1816\n",
            "Epoch 7/20\n",
            "500/500 [==============================] - 52s 103ms/step - loss: 6.3283 - top_k_categorical_accuracy: 0.1907 - val_loss: 6.3418 - val_top_k_categorical_accuracy: 0.1735\n",
            "Epoch 8/20\n",
            "500/500 [==============================] - 52s 104ms/step - loss: 6.2456 - top_k_categorical_accuracy: 0.1987 - val_loss: 6.2197 - val_top_k_categorical_accuracy: 0.1995\n",
            "Epoch 9/20\n",
            "500/500 [==============================] - 52s 104ms/step - loss: 6.2072 - top_k_categorical_accuracy: 0.2014 - val_loss: 6.1803 - val_top_k_categorical_accuracy: 0.2159\n",
            "Epoch 10/20\n",
            "500/500 [==============================] - 52s 104ms/step - loss: 6.1472 - top_k_categorical_accuracy: 0.2087 - val_loss: 6.3767 - val_top_k_categorical_accuracy: 0.1867\n",
            "Epoch 11/20\n",
            "500/500 [==============================] - 51s 103ms/step - loss: 6.1162 - top_k_categorical_accuracy: 0.2095 - val_loss: 6.1979 - val_top_k_categorical_accuracy: 0.2015\n",
            "Epoch 12/20\n",
            "500/500 [==============================] - 52s 104ms/step - loss: 6.1641 - top_k_categorical_accuracy: 0.2120 - val_loss: 5.9424 - val_top_k_categorical_accuracy: 0.2378\n",
            "Epoch 13/20\n",
            "500/500 [==============================] - 52s 103ms/step - loss: 6.0736 - top_k_categorical_accuracy: 0.2168 - val_loss: 6.2348 - val_top_k_categorical_accuracy: 0.2074\n",
            "Epoch 14/20\n",
            "500/500 [==============================] - 52s 103ms/step - loss: 6.2092 - top_k_categorical_accuracy: 0.1971 - val_loss: 6.0232 - val_top_k_categorical_accuracy: 0.2175\n",
            "Epoch 15/20\n",
            "500/500 [==============================] - 52s 103ms/step - loss: 6.1451 - top_k_categorical_accuracy: 0.2108 - val_loss: 6.1353 - val_top_k_categorical_accuracy: 0.2142\n",
            "Epoch 16/20\n",
            "500/500 [==============================] - 51s 103ms/step - loss: 6.0789 - top_k_categorical_accuracy: 0.2190 - val_loss: 6.1014 - val_top_k_categorical_accuracy: 0.2181\n",
            "Epoch 17/20\n",
            "500/500 [==============================] - 51s 103ms/step - loss: 6.1604 - top_k_categorical_accuracy: 0.2049 - val_loss: 6.0966 - val_top_k_categorical_accuracy: 0.2221\n",
            "Epoch 18/20\n",
            "500/500 [==============================] - 51s 103ms/step - loss: 6.1066 - top_k_categorical_accuracy: 0.2143 - val_loss: 6.1667 - val_top_k_categorical_accuracy: 0.1962\n",
            "Epoch 19/20\n",
            "500/500 [==============================] - 51s 103ms/step - loss: 6.0584 - top_k_categorical_accuracy: 0.2191 - val_loss: 6.0729 - val_top_k_categorical_accuracy: 0.2253\n",
            "Epoch 20/20\n",
            "500/500 [==============================] - 51s 103ms/step - loss: 6.0927 - top_k_categorical_accuracy: 0.2154 - val_loss: 6.0077 - val_top_k_categorical_accuracy: 0.2296\n",
            "Total Execution Time: 1044.53s\n",
            "229/229 [==============================] - 23s 99ms/step - loss: 5.8069 - top_k_categorical_accuracy: 0.2507\n",
            "[5.806861877441406, 0.2507164180278778]\n",
            "The test top-k accuracy is 25.07%\n"
          ],
          "name": "stdout"
        }
      ]
    },
    {
      "cell_type": "markdown",
      "metadata": {
        "id": "VNH1A8ScYh04"
      },
      "source": [
        "# Visualize the training and validation accuracy"
      ]
    },
    {
      "cell_type": "code",
      "metadata": {
        "id": "5ctBs2-Xluhw",
        "colab": {
          "base_uri": "https://localhost:8080/",
          "height": 562
        },
        "outputId": "b8f841f4-d887-4f03-d051-23625bd2bed1"
      },
      "source": [
        "print(history.history.keys())\n",
        "\n",
        "import matplotlib.pyplot as plt\n",
        "\n",
        "def plot_acc_loss(history):\n",
        "  history_dict = history.history\n",
        "\n",
        "  acc = history_dict['top_k_categorical_accuracy']\n",
        "  val_acc = history_dict['val_top_k_categorical_accuracy']\n",
        "  loss = history_dict['loss']\n",
        "  val_loss = history_dict['val_loss']\n",
        "\n",
        "  epochs = range(1, len(acc) + 1)\n",
        "\n",
        "  plt.plot(epochs, acc, 'bo', label=f'Training top-{TOP_K} acc')\n",
        "  plt.plot(epochs, val_acc, 'r', label=f'Validation top-{TOP_K} acc')\n",
        "  plt.title(f'Training and validation top-{TOP_K} accuracy')\n",
        "  plt.legend()\n",
        "\n",
        "  plt.savefig(\"best_model_acc.png\", dpi=144, format='png')\n",
        "  plt.figure()\n",
        "\n",
        "  plt.plot(epochs, loss, 'bo', label='Training loss')\n",
        "  plt.plot(epochs, val_loss, 'r', label='Validation loss')\n",
        "  plt.title('Training and validation loss')\n",
        "  plt.legend()\n",
        "\n",
        "  plt.savefig(\"best_model_loss.png\", dpi=144, format='png')\n",
        "  plt.show()\n",
        "\n",
        "plot_acc_loss(history)"
      ],
      "execution_count": null,
      "outputs": [
        {
          "output_type": "stream",
          "text": [
            "dict_keys(['loss', 'top_k_categorical_accuracy', 'val_loss', 'val_top_k_categorical_accuracy'])\n"
          ],
          "name": "stdout"
        },
        {
          "output_type": "display_data",
          "data": {
            "image/png": "[encoded data removed]",
            "text/plain": [
              "<Figure size 432x288 with 1 Axes>"
            ]
          },
          "metadata": {
            "tags": [],
            "needs_background": "light"
          }
        },
        {
          "output_type": "display_data",
          "data": {
            "image/png": "[encoded data removed]",
            "text/plain": [
              "<Figure size 432x288 with 1 Axes>"
            ]
          },
          "metadata": {
            "tags": [],
            "needs_background": "light"
          }
        }
      ]
    },
    {
      "cell_type": "code",
      "metadata": {
        "id": "hScLUwWTCXnj"
      },
      "source": [
        "test_seq_gen = seq_generator(os.path.join(data_path, \"test_set_sequences\"))\n",
        "test_gen = mini_batch_generator(test_seq_gen, batch_size=BATCH_SIZE, max_length=MAX_LENGTH, test=True, eval_test=True)"
      ],
      "execution_count": null,
      "outputs": []
    },
    {
      "cell_type": "markdown",
      "metadata": {
        "id": "C3VCbL3xYwoj"
      },
      "source": [
        "# Evaluate different metrics"
      ]
    },
    {
      "cell_type": "code",
      "metadata": {
        "id": "I-UZW9rbCSLz",
        "colab": {
          "base_uri": "https://localhost:8080/",
          "height": 368
        },
        "outputId": "4d081b1b-73cc-4e63-8088-9480ed9760fc"
      },
      "source": [
        "from scipy.stats import rankdata\n",
        "\n",
        "def top_k_recommendations(seq, k=10):\n",
        "  # Recieves a sequence of (id, rating), and produces k recommendations (as a list of ids)\n",
        "  preds = model.predict(seq)\n",
        "  rankpos = lambda x: (len(x)+1) - rankdata(x).astype(int)\n",
        "  ranked_preds = list([rankpos(rec) for rec in preds][0])\n",
        "\n",
        "  preds_list = []\n",
        "  for i in range(1, k+1):\n",
        "    try:\n",
        "      preds_list.append(ranked_preds.index(i))\n",
        "    except ValueError:\n",
        "      continue\n",
        "  correct_preds_list = [ rev_movie_index[pred] for pred in preds_list ]\n",
        "\n",
        "  return correct_preds_list\n",
        "\n",
        "\n",
        "def evaluate_coverage():\n",
        "  correct_preds = []\n",
        "  all_preds = []\n",
        "  user_cov_count = 0\n",
        "  samples_len = 0\n",
        "\n",
        "  for step in range(test_steps):\n",
        "    print(\"Test Steps:\", step)\n",
        "    samples, targets = next(test_gen)\n",
        "    \n",
        "    for j, sample in enumerate(samples):\n",
        "      test_X = np.zeros((1, MAX_LENGTH, NUM_MOVIES))\n",
        "      seq_features = list(map(lambda x: vectorize_seq(x), sample))\n",
        "      test_X[0, :len(sample), :] = seq_features\n",
        "\n",
        "      top_k_preds = top_k_recommendations(test_X, k=TOP_K)\n",
        "      # print(top_k_preds)\n",
        "\n",
        "      target_movie_id = targets[j][0]\n",
        "\n",
        "      correct_preds.extend(set([target_movie_id]) & set(top_k_preds))\n",
        "      all_preds.extend(top_k_preds)\n",
        "      user_cov_count += int(len(set([target_movie_id]) & set(top_k_preds)) > 0)\n",
        "    \n",
        "    samples_len += len(samples)\n",
        "    # break\n",
        "  \n",
        "  return len(set(correct_preds)), len(set(all_preds)), (user_cov_count / samples_len)\n",
        "\n",
        "item_cov, all_cov, user_cov_score = evaluate_coverage()\n",
        "print(\"Item Coverage:\", item_cov)\n",
        "print(\"Recommendations Coverage:\", all_cov)\n",
        "print(f\"User Coverage: {user_cov_score*100:.2f}%\")"
      ],
      "execution_count": null,
      "outputs": [
        {
          "output_type": "stream",
          "text": [
            "Test Steps: 0\n"
          ],
          "name": "stdout"
        },
        {
          "output_type": "error",
          "ename": "ValueError",
          "evalue": "ignored",
          "traceback": [
            "\u001b[0;31m---------------------------------------------------------------------------\u001b[0m",
            "\u001b[0;31mValueError\u001b[0m                                Traceback (most recent call last)",
            "\u001b[0;32m<ipython-input-54-ef654d5da835>\u001b[0m in \u001b[0;36m<module>\u001b[0;34m()\u001b[0m\n\u001b[1;32m     47\u001b[0m   \u001b[0;32mreturn\u001b[0m \u001b[0mlen\u001b[0m\u001b[0;34m(\u001b[0m\u001b[0mset\u001b[0m\u001b[0;34m(\u001b[0m\u001b[0mcorrect_preds\u001b[0m\u001b[0;34m)\u001b[0m\u001b[0;34m)\u001b[0m\u001b[0;34m,\u001b[0m \u001b[0mlen\u001b[0m\u001b[0;34m(\u001b[0m\u001b[0mset\u001b[0m\u001b[0;34m(\u001b[0m\u001b[0mall_preds\u001b[0m\u001b[0;34m)\u001b[0m\u001b[0;34m)\u001b[0m\u001b[0;34m,\u001b[0m \u001b[0;34m(\u001b[0m\u001b[0muser_cov_count\u001b[0m \u001b[0;34m/\u001b[0m \u001b[0msamples_len\u001b[0m\u001b[0;34m)\u001b[0m\u001b[0;34m\u001b[0m\u001b[0;34m\u001b[0m\u001b[0m\n\u001b[1;32m     48\u001b[0m \u001b[0;34m\u001b[0m\u001b[0m\n\u001b[0;32m---> 49\u001b[0;31m \u001b[0mitem_cov\u001b[0m\u001b[0;34m,\u001b[0m \u001b[0mall_cov\u001b[0m\u001b[0;34m,\u001b[0m \u001b[0muser_cov_score\u001b[0m \u001b[0;34m=\u001b[0m \u001b[0mevaluate_coverage\u001b[0m\u001b[0;34m(\u001b[0m\u001b[0;34m)\u001b[0m\u001b[0;34m\u001b[0m\u001b[0;34m\u001b[0m\u001b[0m\n\u001b[0m\u001b[1;32m     50\u001b[0m \u001b[0mprint\u001b[0m\u001b[0;34m(\u001b[0m\u001b[0;34m\"Item Coverage:\"\u001b[0m\u001b[0;34m,\u001b[0m \u001b[0mitem_cov\u001b[0m\u001b[0;34m)\u001b[0m\u001b[0;34m\u001b[0m\u001b[0;34m\u001b[0m\u001b[0m\n\u001b[1;32m     51\u001b[0m \u001b[0mprint\u001b[0m\u001b[0;34m(\u001b[0m\u001b[0;34m\"Recommendations Coverage:\"\u001b[0m\u001b[0;34m,\u001b[0m \u001b[0mall_cov\u001b[0m\u001b[0;34m)\u001b[0m\u001b[0;34m\u001b[0m\u001b[0;34m\u001b[0m\u001b[0m\n",
            "\u001b[0;32m<ipython-input-54-ef654d5da835>\u001b[0m in \u001b[0;36mevaluate_coverage\u001b[0;34m()\u001b[0m\n\u001b[1;32m     31\u001b[0m       \u001b[0mtest_X\u001b[0m \u001b[0;34m=\u001b[0m \u001b[0mnp\u001b[0m\u001b[0;34m.\u001b[0m\u001b[0mzeros\u001b[0m\u001b[0;34m(\u001b[0m\u001b[0;34m(\u001b[0m\u001b[0;36m1\u001b[0m\u001b[0;34m,\u001b[0m \u001b[0mMAX_LENGTH\u001b[0m\u001b[0;34m,\u001b[0m \u001b[0mNUM_MOVIES\u001b[0m\u001b[0;34m)\u001b[0m\u001b[0;34m)\u001b[0m\u001b[0;34m\u001b[0m\u001b[0;34m\u001b[0m\u001b[0m\n\u001b[1;32m     32\u001b[0m       \u001b[0mseq_features\u001b[0m \u001b[0;34m=\u001b[0m \u001b[0mlist\u001b[0m\u001b[0;34m(\u001b[0m\u001b[0mmap\u001b[0m\u001b[0;34m(\u001b[0m\u001b[0;32mlambda\u001b[0m \u001b[0mx\u001b[0m\u001b[0;34m:\u001b[0m \u001b[0mvectorize_seq\u001b[0m\u001b[0;34m(\u001b[0m\u001b[0mx\u001b[0m\u001b[0;34m)\u001b[0m\u001b[0;34m,\u001b[0m \u001b[0msample\u001b[0m\u001b[0;34m)\u001b[0m\u001b[0;34m)\u001b[0m\u001b[0;34m\u001b[0m\u001b[0;34m\u001b[0m\u001b[0m\n\u001b[0;32m---> 33\u001b[0;31m       \u001b[0mtest_X\u001b[0m\u001b[0;34m[\u001b[0m\u001b[0;36m0\u001b[0m\u001b[0;34m,\u001b[0m \u001b[0;34m:\u001b[0m\u001b[0mlen\u001b[0m\u001b[0;34m(\u001b[0m\u001b[0msample\u001b[0m\u001b[0;34m)\u001b[0m\u001b[0;34m,\u001b[0m \u001b[0;34m:\u001b[0m\u001b[0;34m]\u001b[0m \u001b[0;34m=\u001b[0m \u001b[0mseq_features\u001b[0m\u001b[0;34m\u001b[0m\u001b[0;34m\u001b[0m\u001b[0m\n\u001b[0m\u001b[1;32m     34\u001b[0m \u001b[0;34m\u001b[0m\u001b[0m\n\u001b[1;32m     35\u001b[0m       \u001b[0mtop_k_preds\u001b[0m \u001b[0;34m=\u001b[0m \u001b[0mtop_k_recommendations\u001b[0m\u001b[0;34m(\u001b[0m\u001b[0mtest_X\u001b[0m\u001b[0;34m,\u001b[0m \u001b[0mk\u001b[0m\u001b[0;34m=\u001b[0m\u001b[0mTOP_K\u001b[0m\u001b[0;34m)\u001b[0m\u001b[0;34m\u001b[0m\u001b[0;34m\u001b[0m\u001b[0m\n",
            "\u001b[0;31mValueError\u001b[0m: could not broadcast input array from shape (10336) into shape (10326)"
          ]
        }
      ]
    },
    {
      "cell_type": "code",
      "metadata": {
        "id": "oh-GRSv-mWtf"
      },
      "source": [
        "test_seq_gen = seq_generator(os.path.join(data_path, \"test_set_sequences\"))\n",
        "test_gen = mini_batch_generator(test_seq_gen, batch_size=BATCH_SIZE, max_length=MAX_LENGTH, test=True)"
      ],
      "execution_count": null,
      "outputs": []
    },
    {
      "cell_type": "markdown",
      "metadata": {
        "id": "EJ7rm5YNYuOn"
      },
      "source": [
        "# Predict Sample Top-K Movies"
      ]
    },
    {
      "cell_type": "code",
      "metadata": {
        "id": "Cr-Bu5jOIN0O"
      },
      "source": [
        "from scipy.stats import rankdata\n",
        "\n",
        "USER_INDEX = 0\n",
        "\n",
        "X_test, Y_test = next(test_gen)\n",
        "print(X_test.shape)\n",
        "print(Y_test.shape)\n",
        "print(X_test[USER_INDEX].shape)\n",
        "\n",
        "print(\"\\nSample Sequence:\")\n",
        "seq_list = []\n",
        "for seq in X_test[USER_INDEX]:\n",
        "  try:\n",
        "    seq_list.append(list(seq).index(1))\n",
        "  except ValueError:\n",
        "    continue\n",
        "\n",
        "# seq_list = [ list(seq).index(1) for seq in X_test[USER_INDEX] ]\n",
        "correct_seq_list = [ rev_movie_index[seq] for seq in seq_list ]\n",
        "movie_title_list = [ get_movie_title(movie_id) for movie_id in correct_seq_list ]\n",
        "pp.pprint(movie_title_list)\n",
        "\n",
        "target_movie_id = list(Y_test[USER_INDEX]).index(1)\n",
        "movie_id = rev_movie_index[target_movie_id]\n",
        "print(\"\\nTarget Movie:\", get_movie_title(movie_id))\n",
        "\n",
        "# preds_list = [ ranked_preds.index(i) for i in range(1, top_k+1) ]\n",
        "# correct_preds_list = [ rev_movie_index[pred] for pred in preds_list ]\n",
        "\n",
        "print(\"\\nSample Top-K Predictions:\")\n",
        "X = np.zeros((1, MAX_LENGTH, NUM_MOVIES))\n",
        "X[0, :, :] = X_test[USER_INDEX]\n",
        "# model_preds = model.predict(X)\n",
        "# print(model_preds)\n",
        "top_k_preds = top_k_recommendations(X, k=TOP_K)\n",
        "movie_preds = [ get_movie_title(movie_id) for movie_id in top_k_preds ]\n",
        "pp.pprint(movie_preds)"
      ],
      "execution_count": null,
      "outputs": []
    },
    {
      "cell_type": "markdown",
      "metadata": {
        "id": "kTzn4ypYY1Qe"
      },
      "source": [
        "# Group Recommendations"
      ]
    },
    {
      "cell_type": "code",
      "metadata": {
        "id": "9ZBDY-8tIvgG"
      },
      "source": [
        "from scipy.stats import rankdata\n",
        "\n",
        "def top_k_recommendations_for_user(USER_INDEX):\n",
        "  X_test, Y_test = next(test_gen)\n",
        "\n",
        "  seq_list = []\n",
        "  for seq in X_test[USER_INDEX]:\n",
        "    try:\n",
        "      seq_list.append(list(seq).index(1))\n",
        "    except ValueError:\n",
        "      continue\n",
        "\n",
        "  # seq_list = [ list(seq).index(1) for seq in X_test[USER_INDEX] ]\n",
        "  correct_seq_list = [ rev_movie_index[seq] for seq in seq_list ]\n",
        "  movie_title_list = [ get_movie_title(movie_id) for movie_id in correct_seq_list ]\n",
        "  # pp.pprint(movie_title_list)\n",
        "\n",
        "  target_movie_id = list(Y_test[USER_INDEX]).index(1)\n",
        "  movie_id = rev_movie_index[target_movie_id]\n",
        "\n",
        "  # preds_list = [ ranked_preds.index(i) for i in range(1, top_k+1) ]\n",
        "  # correct_preds_list = [ rev_movie_index[pred] for pred in preds_list ]\n",
        "\n",
        "  # print(\"\\nSample Top-K Predictions:\")\n",
        "  X = np.zeros((1, MAX_LENGTH, NUM_MOVIES))\n",
        "  X[0, :, :] = X_test[USER_INDEX]\n",
        "  # model_preds = model.predict(X)\n",
        "  # print(model_preds)\n",
        "  top_k_preds = top_k_recommendations(X, k=TOP_K)\n",
        "  movie_preds = [ get_movie_title(movie_id) for movie_id in top_k_preds ]\n",
        "  # pp.pprint(movie_preds)\n",
        "  return correct_seq_list, top_k_preds\n",
        "\n",
        "def avg_movie_rating(movie_id):\n",
        "  return avg_ratings_df[avg_ratings_df['movieId'] == movie_id].reset_index(drop=True).at[0, 'rating']\n",
        "\n",
        "USER_1 = 0\n",
        "USER_2 = 1\n",
        "USER_3 = 2\n",
        "\n",
        "seq_1, preds_1 = top_k_recommendations_for_user(USER_1)\n",
        "seq_2, preds_2 = top_k_recommendations_for_user(USER_2)\n",
        "seq_3, preds_3 = top_k_recommendations_for_user(USER_3)\n",
        "\n",
        "print(\"Individual Recommendations\")\n",
        "print(\"\\nUser 1:\")\n",
        "movie_preds = [ get_movie_title(movie_id) for movie_id in preds_1 ]\n",
        "pp.pprint(movie_preds)\n",
        "\n",
        "print(\"\\nUser 2:\")\n",
        "movie_preds = [ get_movie_title(movie_id) for movie_id in preds_2 ]\n",
        "pp.pprint(movie_preds)\n",
        "\n",
        "print(\"\\nUser 3:\")\n",
        "movie_preds = [ get_movie_title(movie_id) for movie_id in preds_3 ]\n",
        "pp.pprint(movie_preds)\n",
        "\n",
        "# Create a single list of movies and remove duplicates\n",
        "seen_movies = []\n",
        "seen_movies.extend(seq_1)\n",
        "seen_movies.extend(seq_2)\n",
        "seen_movies.extend(seq_3)\n",
        "seen_movies = list(set(seen_movies))\n",
        "\n",
        "group_movies = []\n",
        "group_movies.extend(preds_1)\n",
        "group_movies.extend(preds_2)\n",
        "group_movies.extend(preds_3)\n",
        "group_movies = list(set(group_movies))\n",
        "\n",
        "# Remove seen movies\n",
        "for seen_movie in seen_movies:\n",
        "  if seen_movie in group_movies:\n",
        "    group_movies.remove(seen_movie)\n",
        "\n",
        "# Rank group recommnedations\n",
        "avg_ratings_df = ratings_df[['movieId', 'rating']].groupby('movieId').mean()\n",
        "avg_ratings_df = avg_ratings_df.reset_index()\n",
        "\n",
        "avg_ratings_list = [ avg_movie_rating(movie_id) for movie_id in group_movies ]\n",
        "movie_year_list = [ int(get_movie_year(movie_id)) for movie_id in group_movies ]\n",
        "\n",
        "group_movies_data = {'movieId': group_movies, 'avgRating': avg_ratings_list, 'year': movie_year_list}\n",
        "group_movies_data_df = pd.DataFrame(data=group_movies_data)\n",
        "\n",
        "ranked_movies_data_df = group_movies_data_df.sort_values(by=['year', 'avgRating'], ascending=False)\n",
        "ranked_movies = ranked_movies_data_df['movieId'].tolist()\n",
        "\n",
        "print(\"\\nGroup Movie Recommendations\")\n",
        "print(\"---------------------------\")\n",
        "group_movie_preds = [ get_movie_title(movie_id) for movie_id in ranked_movies ]\n",
        "pp.pprint(group_movie_preds[:min(TOP_K, len(group_movie_preds))])"
      ],
      "execution_count": null,
      "outputs": []
    }
  ]
}
